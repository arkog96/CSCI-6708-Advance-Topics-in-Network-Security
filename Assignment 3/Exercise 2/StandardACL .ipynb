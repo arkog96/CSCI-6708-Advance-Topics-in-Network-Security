{
 "cells": [
  {
   "cell_type": "code",
   "execution_count": 1,
   "id": "537332b4",
   "metadata": {},
   "outputs": [
    {
     "name": "stdout",
     "output_type": "stream",
     "text": [
      "Packet from 172.16.4.1 denied\n",
      "Packet from 172.16.3.5 permitted\n",
      "Packet from 201.15.3.4 denied\n"
     ]
    }
   ],
   "source": [
    "def check_ip_rule(rule, ip_to_check):\n",
    "    rule_nums = rule[3].split(\".\")\n",
    "    mask = rule[4].split(\".\")\n",
    "    ip = ip_to_check.split(\".\")\n",
    "\n",
    "    for i in range(4):\n",
    "        if mask[i] == \"0\":\n",
    "            if ip[i] != rule_nums[i]:\n",
    "                return False\n",
    "    return True \n",
    "\n",
    "def read_acl_rules(file_name):\n",
    "    acl_rules = []\n",
    "    with open(file_name, 'r') as file:\n",
    "        for line in file:\n",
    "            command = line.split()\n",
    "            if \"access-list\" in line:\n",
    "                acl_rules.append(command)\n",
    "    return acl_rules\n",
    "\n",
    "def check_packet_against_rules(rules, packet):\n",
    "    for rule in rules:\n",
    "        if check_ip_rule(rule, packet):\n",
    "            if rule[2] == \"deny\":\n",
    "                print(\"Packet from\", packet, \"denied\")\n",
    "                return\n",
    "            else:\n",
    "                print(\"Packet from\", packet, \"permitted\")\n",
    "                return\n",
    "    print(\"Packet from\", packet, \"denied\")\n",
    "\n",
    "acl_rules = read_acl_rules('ACL.txt')\n",
    "\n",
    "with open(\"IpList.txt\", \"r\") as packets_file:\n",
    "    for packet in packets_file:\n",
    "        check_packet_against_rules(acl_rules, packet.strip())\n",
    "\n"
   ]
  }
 ],
 "metadata": {
  "kernelspec": {
   "display_name": "Python 3 (ipykernel)",
   "language": "python",
   "name": "python3"
  },
  "language_info": {
   "codemirror_mode": {
    "name": "ipython",
    "version": 3
   },
   "file_extension": ".py",
   "mimetype": "text/x-python",
   "name": "python",
   "nbconvert_exporter": "python",
   "pygments_lexer": "ipython3",
   "version": "3.9.13"
  }
 },
 "nbformat": 4,
 "nbformat_minor": 5
}

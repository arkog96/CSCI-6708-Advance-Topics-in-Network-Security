{
 "cells": [
  {
   "cell_type": "code",
   "execution_count": 1,
   "id": "c3a5c083",
   "metadata": {},
   "outputs": [
    {
     "name": "stdout",
     "output_type": "stream",
     "text": [
      "Enter the prime number p: 11\n",
      "Enter the prime number q: 17\n",
      "\n",
      "Calculating RSA Values ....\n",
      "\n",
      "Public RSA key is (3, 187)\n",
      "Private RSA key is (107, 187)\n",
      "\n",
      "Enter the plaintext message m (an integer): 5\n",
      "\n",
      "Encrypting m...\n",
      "The ciphertext c is 125\n",
      "\n",
      "Decrypting c...\n",
      "The plaintext m is 5\n"
     ]
    }
   ],
   "source": [
    "#Calculate the greatest common divisor of two numbers using Euclidean algorithm.\n",
    "def gcd(e, r):\n",
    "    if e == 0:\n",
    "        return r\n",
    "    else:\n",
    "        return gcd(r % e, e)\n",
    "\n",
    "def calmod(c, d, n):\n",
    "    a = 1\n",
    "    for x in range(d):\n",
    "        a = (a * c) % n\n",
    "    return a\n",
    "\n",
    "\n",
    "# Prompt user to enter two prime numbers as input\n",
    "p = int(input(\"Enter the prime number p: \"))\n",
    "q = int(input(\"Enter the prime number q: \"))\n",
    "print()\n",
    "\n",
    "# Calculating n = pq and (p-1)*(q-1)\n",
    "n = p * q\n",
    "r = (p - 1) * (q - 1)\n",
    "\n",
    "e = 0\n",
    "\n",
    "# Calculating e for public key\n",
    "for e in range(2, r):\n",
    "    if gcd(e, r) == 1:\n",
    "        break\n",
    "\n",
    "d = 0\n",
    "\n",
    "# Calculating d for private key\n",
    "for i in range(10):\n",
    "    x = 1 + i * r\n",
    "    if x % e == 0:\n",
    "        d = x // e\n",
    "        break\n",
    "\n",
    "print(\"Calculating RSA Values ....\")\n",
    "print()\n",
    "print(\"Public RSA key is ({}, {})\".format(e, n))\n",
    "print(\"Private RSA key is ({}, {})\".format(d, n))\n",
    "print()\n",
    "\n",
    "# Prompt user to enter the message as an integer\n",
    "m = int(input(\"Enter the plaintext message m (an integer): \"))\n",
    "print()\n",
    "\n",
    "# Calculate c1 = m^e mod n\n",
    "c1 = pow(m, e) \n",
    "c2 = c1 % n\n",
    "c = int(c2)\n",
    "\n",
    "print(\"Encrypting m...\")\n",
    "print(\"The ciphertext c is\", c)\n",
    "print()\n",
    "\n",
    "print(\"Decrypting c...\")\n",
    "decrypted_message = calmod(c, d, n)\n",
    "print(\"The plaintext m is\", decrypted_message)"
   ]
  },
  {
   "cell_type": "code",
   "execution_count": null,
   "id": "6af735a2",
   "metadata": {},
   "outputs": [],
   "source": []
  }
 ],
 "metadata": {
  "kernelspec": {
   "display_name": "Python 3 (ipykernel)",
   "language": "python",
   "name": "python3"
  },
  "language_info": {
   "codemirror_mode": {
    "name": "ipython",
    "version": 3
   },
   "file_extension": ".py",
   "mimetype": "text/x-python",
   "name": "python",
   "nbconvert_exporter": "python",
   "pygments_lexer": "ipython3",
   "version": "3.9.13"
  }
 },
 "nbformat": 4,
 "nbformat_minor": 5
}

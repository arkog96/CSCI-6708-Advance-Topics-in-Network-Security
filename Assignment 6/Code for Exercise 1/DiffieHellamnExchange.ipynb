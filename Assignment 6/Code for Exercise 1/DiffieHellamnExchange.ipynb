{
 "cells": [
  {
   "cell_type": "code",
   "execution_count": 1,
   "id": "b8aaac0c",
   "metadata": {},
   "outputs": [
    {
     "name": "stdout",
     "output_type": "stream",
     "text": [
      "Please enter the value of p: 11\n",
      "Please enter the value of g: 17\n",
      "The value of SA is 5 and SB is 8\n",
      "The secret key is 1\n"
     ]
    }
   ],
   "source": [
    "import random \n",
    "\n",
    "#prompt user to input the value of p and g\n",
    "p = int(input(\"Please enter the value of p: \"))\n",
    "g = int(input(\"Please enter the value of g: \"))\n",
    "\n",
    "#set a upperbound and lowerbound to generate random values of SA and SB between 1 to 10. \n",
    "upperbound = 10 \n",
    "lowerbound = 1\n",
    "\n",
    "#Generate random secret values SA and SB\n",
    "SA = random.randint(lowerbound, upperbound)\n",
    "SB = random.randint(lowerbound, upperbound)\n",
    "\n",
    "print(\"The value of SA is {} and SB is {}\".format(SA, SB))\n",
    "\n",
    "#Compute TA and TB using SA, SB, p and g\n",
    "TA = (g ** SA) % p\n",
    "TB = (g ** SB) % p\n",
    "\n",
    "#Compute the secret key after exchanging the T's\n",
    "SK1 = (TB ** SA) % p\n",
    "SK2 = (TA ** SB) % p\n",
    "\n",
    "#Check if both calculated secret keys match\n",
    "if (SK1 == SK2):\n",
    "    print(\"The secret key is {}\".format(SK1))\n",
    "else:\n",
    "    print(\"Invalid\")"
   ]
  },
  {
   "cell_type": "code",
   "execution_count": null,
   "id": "3c1e6b31",
   "metadata": {},
   "outputs": [],
   "source": []
  }
 ],
 "metadata": {
  "kernelspec": {
   "display_name": "Python 3 (ipykernel)",
   "language": "python",
   "name": "python3"
  },
  "language_info": {
   "codemirror_mode": {
    "name": "ipython",
    "version": 3
   },
   "file_extension": ".py",
   "mimetype": "text/x-python",
   "name": "python",
   "nbconvert_exporter": "python",
   "pygments_lexer": "ipython3",
   "version": "3.9.13"
  }
 },
 "nbformat": 4,
 "nbformat_minor": 5
}
